{
 "cells": [
  {
   "cell_type": "code",
   "execution_count": null,
   "id": "94334bd9",
   "metadata": {},
   "outputs": [],
   "source": [
    "import pandas as pd\n",
    "import numpy as np\n",
    "import matplotlib.pyplot as plt"
   ]
  },
  {
   "cell_type": "markdown",
   "id": "f2671ea8",
   "metadata": {},
   "source": [
    "# PPO_EKF_25\n",
    "\n",
    "|||\n",
    "|-|-|\n",
    "| randomize_offset | false |\n",
    "| horizon | 32768 |\n",
    "| reward_fn | rw_distance_normalized |\n",
    "| map | Town01 |"
   ]
  },
  {
   "cell_type": "code",
   "execution_count": null,
   "id": "82a59f00",
   "metadata": {},
   "outputs": [],
   "source": [
    "# time, frame1_x, frame1_y, frame2_x, frame2_y, ...\n",
    "trajectories_25 = pd.read_csv('data/PPO_EKF_25/trajectories.csv')\n",
    "trajectories_25.sort_values(by='time', inplace=True)\n",
    "trajectories_25['time'] -= trajectories_25['time'].min()\n",
    "trajectories_25.head()"
   ]
  },
  {
   "cell_type": "code",
   "execution_count": null,
   "id": "cc541b7a",
   "metadata": {},
   "outputs": [
    {
     "ename": "NameError",
     "evalue": "name 'trajectories_25' is not defined",
     "output_type": "error",
     "traceback": [
      "\u001b[0;31m---------------------------------------------------------------------------\u001b[0m",
      "\u001b[0;31mNameError\u001b[0m                                 Traceback (most recent call last)",
      "Cell \u001b[0;32mIn[1], line 2\u001b[0m\n\u001b[1;32m      1\u001b[0m \u001b[38;5;66;03m# Separate frames\u001b[39;00m\n\u001b[0;32m----> 2\u001b[0m gt_25 \u001b[38;5;241m=\u001b[39m \u001b[43mtrajectories_25\u001b[49m[[\u001b[38;5;124m'\u001b[39m\u001b[38;5;124mtime\u001b[39m\u001b[38;5;124m'\u001b[39m, \u001b[38;5;124m'\u001b[39m\u001b[38;5;124mEGO_1/IMU_x\u001b[39m\u001b[38;5;124m'\u001b[39m, \u001b[38;5;124m'\u001b[39m\u001b[38;5;124mEGO_1/IMU_y\u001b[39m\u001b[38;5;124m'\u001b[39m]]\u001b[38;5;241m.\u001b[39mrename(columns\u001b[38;5;241m=\u001b[39m{\u001b[38;5;124m'\u001b[39m\u001b[38;5;124mEGO_1/IMU_x\u001b[39m\u001b[38;5;124m'\u001b[39m: \u001b[38;5;124m'\u001b[39m\u001b[38;5;124mx\u001b[39m\u001b[38;5;124m'\u001b[39m, \u001b[38;5;124m'\u001b[39m\u001b[38;5;124mEGO_1/IMU_y\u001b[39m\u001b[38;5;124m'\u001b[39m: \u001b[38;5;124m'\u001b[39m\u001b[38;5;124my\u001b[39m\u001b[38;5;124m'\u001b[39m})\n\u001b[1;32m      4\u001b[0m EKF_25 \u001b[38;5;241m=\u001b[39m trajectories_25[[\u001b[38;5;124m'\u001b[39m\u001b[38;5;124mtime\u001b[39m\u001b[38;5;124m'\u001b[39m, \u001b[38;5;124m'\u001b[39m\u001b[38;5;124mbase_link_x\u001b[39m\u001b[38;5;124m'\u001b[39m, \u001b[38;5;124m'\u001b[39m\u001b[38;5;124mbase_link_y\u001b[39m\u001b[38;5;124m'\u001b[39m]]\u001b[38;5;241m.\u001b[39mrename(columns\u001b[38;5;241m=\u001b[39m{\u001b[38;5;124m'\u001b[39m\u001b[38;5;124mbase_link_x\u001b[39m\u001b[38;5;124m'\u001b[39m: \u001b[38;5;124m'\u001b[39m\u001b[38;5;124mx\u001b[39m\u001b[38;5;124m'\u001b[39m, \u001b[38;5;124m'\u001b[39m\u001b[38;5;124mbase_link_y\u001b[39m\u001b[38;5;124m'\u001b[39m: \u001b[38;5;124m'\u001b[39m\u001b[38;5;124my\u001b[39m\u001b[38;5;124m'\u001b[39m})\n\u001b[1;32m      5\u001b[0m EKF_25[\u001b[38;5;124m'\u001b[39m\u001b[38;5;124merror_x\u001b[39m\u001b[38;5;124m'\u001b[39m] \u001b[38;5;241m=\u001b[39m EKF_25[\u001b[38;5;124m'\u001b[39m\u001b[38;5;124mx\u001b[39m\u001b[38;5;124m'\u001b[39m] \u001b[38;5;241m-\u001b[39m gt_25[\u001b[38;5;124m'\u001b[39m\u001b[38;5;124mx\u001b[39m\u001b[38;5;124m'\u001b[39m]\n",
      "\u001b[0;31mNameError\u001b[0m: name 'trajectories_25' is not defined"
     ]
    }
   ],
   "source": [
    "# Separate frames\n",
    "gt_25 = trajectories_25[['time', 'EGO_1/IMU_x', 'EGO_1/IMU_y']].rename(columns={'EGO_1/IMU_x': 'x', 'EGO_1/IMU_y': 'y'})\n",
    "\n",
    "EKF_25 = trajectories_25[['time', 'base_link_x', 'base_link_y']].rename(columns={'base_link_x': 'x', 'base_link_y': 'y'})\n",
    "EKF_25['error_x'] = EKF_25['x'] - gt_25['x']\n",
    "EKF_25['error_y'] = EKF_25['y'] - gt_25['y']\n",
    "EKF_25['error'] = np.sqrt(EKF_25['error_x']**2 + EKF_25['error_y']**2)\n",
    "\n",
    "model_25 = trajectories_25[['time', 'model_frame_x', 'model_frame_y']].rename(columns={'model_frame_x': 'x', 'model_frame_y': 'y'})\n",
    "model_25['error_x'] = model_25['x'] - gt_25['x']\n",
    "model_25['error_y'] = model_25['y'] - gt_25['y']\n",
    "model_25['error'] = np.sqrt(model_25['error_x']**2 + model_25['error_y']**2)"
   ]
  },
  {
   "cell_type": "code",
   "execution_count": null,
   "id": "42c1237e",
   "metadata": {},
   "outputs": [],
   "source": [
    "# Plot trajectories over specified horizon\n",
    "t0 = 0.0\n",
    "t1 = 10.0\n",
    "mask = (gt_25['time'] >= t0) & (gt_25['time'] <= t1)\n",
    "\n",
    "plt.figure(figsize=(10, 6))\n",
    "plt.plot(gt_25['x'][mask], gt_25['y'][mask], label='Ground Truth', color='green', linestyle='--')\n",
    "plt.plot(EKF_25['x'][mask], EKF_25['y'][mask], label='EKF', color='blue')\n",
    "plt.plot(model_25['x'][mask], model_25['y'][mask], label='Model', color='orange')\n",
    "plt.xlabel('x (m)')\n",
    "plt.ylabel('y (m)')\n",
    "plt.title('Trajectories Over Time')\n",
    "plt.legend()\n",
    "plt.grid()\n",
    "plt.show()"
   ]
  },
  {
   "cell_type": "code",
   "execution_count": null,
   "id": "0dfbfbb7",
   "metadata": {},
   "outputs": [],
   "source": [
    "# Plot errors over time\n",
    "t0 = 0.0\n",
    "t1 = 10.0\n",
    "mask = (gt_25['time'] >= t0) & (gt_25['time'] <= t1)\n",
    "\n",
    "plt.figure(figsize=(10, 6))\n",
    "plt.plot(EKF_25['time'][mask], EKF_25['error'][mask], label='EKF', color='blue')\n",
    "plt.plot(model_25['time'][mask], model_25['error'][mask], label='Model', color='orange')\n",
    "plt.xlabel('Time (s)')\n",
    "plt.ylabel('Error (m)')\n",
    "plt.title('Prediction error over time')\n",
    "plt.legend()\n",
    "plt.grid()\n",
    "plt.show()"
   ]
  },
  {
   "cell_type": "code",
   "execution_count": null,
   "id": "4057a47e",
   "metadata": {},
   "outputs": [],
   "source": [
    "# Plot a heatmap of errors\n",
    "plt.figure(figsize=(10, 8))\n",
    "hb = plt.hexbin(\n",
    "    gt_25['x'], gt_25['y'],\n",
    "    C=model_25['error'],\n",
    "    gridsize=60,\n",
    "    reduce_C_function=np.mean,\n",
    "    cmap='inferno'\n",
    ")\n",
    "plt.colorbar(hb, label='Error (m)')\n",
    "plt.xlabel('x (m)')\n",
    "plt.ylabel('y (m)')\n",
    "plt.title('Spatial heatmap of model error')\n",
    "plt.grid()\n",
    "plt.show()"
   ]
  },
  {
   "cell_type": "code",
   "execution_count": null,
   "id": "35216707",
   "metadata": {},
   "outputs": [],
   "source": [
    "# Plot a heatmap of errors std\n",
    "plt.figure(figsize=(10, 8))\n",
    "hb = plt.hexbin(\n",
    "    gt_25['x'], gt_25['y'],\n",
    "    C=model_25['error'],\n",
    "    gridsize=60,\n",
    "    reduce_C_function=np.std,\n",
    "    cmap='inferno'\n",
    ")\n",
    "plt.colorbar(hb, label='Error (m)')\n",
    "plt.xlabel('x (m)')\n",
    "plt.ylabel('y (m)')\n",
    "plt.title('Spatial heatmap of model error std')\n",
    "plt.grid()\n",
    "plt.show()"
   ]
  }
 ],
 "metadata": {
  "kernelspec": {
   "display_name": "Python 3",
   "language": "python",
   "name": "python3"
  },
  "language_info": {
   "codemirror_mode": {
    "name": "ipython",
    "version": 3
   },
   "file_extension": ".py",
   "mimetype": "text/x-python",
   "name": "python",
   "nbconvert_exporter": "python",
   "pygments_lexer": "ipython3",
   "version": "3.10.12"
  }
 },
 "nbformat": 4,
 "nbformat_minor": 5
}
